{
 "cells": [
  {
   "cell_type": "markdown",
   "metadata": {},
   "source": [
    "<H1>This is sample project for Machine Learing. \n",
    "Dataset used is Airlines Satisfaction Survey. </H1>"
   ]
  },
  {
   "cell_type": "code",
   "execution_count": 212,
   "metadata": {
    "collapsed": true
   },
   "outputs": [],
   "source": [
    "import random\n",
    "import datetime\n",
    "import pandas as pd\n",
    "import matplotlib.pyplot as plt\n",
    "import statistics\n",
    "import numpy as np\n",
    "import seaborn\n",
    "\n",
    "%matplotlib inline"
   ]
  },
  {
   "cell_type": "code",
   "execution_count": 47,
   "metadata": {},
   "outputs": [
    {
     "name": "stdout",
     "output_type": "stream",
     "text": [
      "/Users/mugupta2/SatisfactionSurvey/code/python\r\n"
     ]
    }
   ],
   "source": [
    "!pwd"
   ]
  },
  {
   "cell_type": "code",
   "execution_count": 48,
   "metadata": {},
   "outputs": [
    {
     "data": {
      "text/html": [
       "<div>\n",
       "<table border=\"1\" class=\"dataframe\">\n",
       "  <thead>\n",
       "    <tr style=\"text-align: right;\">\n",
       "      <th></th>\n",
       "      <th>Satisfaction</th>\n",
       "      <th>Airline Status</th>\n",
       "      <th>Age</th>\n",
       "      <th>Age Range</th>\n",
       "      <th>Gender</th>\n",
       "      <th>Price Sensitivity</th>\n",
       "      <th>Year of First Flight</th>\n",
       "      <th>No of Flights p.a.</th>\n",
       "      <th>No of Flights p.a. grouped</th>\n",
       "      <th>% of Flight with other Airlines</th>\n",
       "      <th>...</th>\n",
       "      <th>Origin State</th>\n",
       "      <th>Destination City</th>\n",
       "      <th>Destination State</th>\n",
       "      <th>Scheduled Departure Hour</th>\n",
       "      <th>Departure Delay in Minutes</th>\n",
       "      <th>Arrival Delay in Minutes</th>\n",
       "      <th>Flight cancelled</th>\n",
       "      <th>Flight time in minutes</th>\n",
       "      <th>Flight Distance</th>\n",
       "      <th>Arrival Delay greater 5 Mins</th>\n",
       "    </tr>\n",
       "  </thead>\n",
       "  <tbody>\n",
       "    <tr>\n",
       "      <th>0</th>\n",
       "      <td>4.5</td>\n",
       "      <td>Blue</td>\n",
       "      <td>31</td>\n",
       "      <td>30-39</td>\n",
       "      <td>Male</td>\n",
       "      <td>1</td>\n",
       "      <td>2007</td>\n",
       "      <td>28</td>\n",
       "      <td>21 to 30</td>\n",
       "      <td>7</td>\n",
       "      <td>...</td>\n",
       "      <td>Wisconsin</td>\n",
       "      <td>Dallas/Fort Worth, TX</td>\n",
       "      <td>Texas</td>\n",
       "      <td>15</td>\n",
       "      <td>0.0</td>\n",
       "      <td>3.0</td>\n",
       "      <td>No</td>\n",
       "      <td>134.0</td>\n",
       "      <td>821</td>\n",
       "      <td>no</td>\n",
       "    </tr>\n",
       "    <tr>\n",
       "      <th>1</th>\n",
       "      <td>4.0</td>\n",
       "      <td>Blue</td>\n",
       "      <td>56</td>\n",
       "      <td>50-59</td>\n",
       "      <td>Male</td>\n",
       "      <td>2</td>\n",
       "      <td>2006</td>\n",
       "      <td>41</td>\n",
       "      <td>41 to 50</td>\n",
       "      <td>3</td>\n",
       "      <td>...</td>\n",
       "      <td>Wisconsin</td>\n",
       "      <td>Dallas/Fort Worth, TX</td>\n",
       "      <td>Texas</td>\n",
       "      <td>11</td>\n",
       "      <td>2.0</td>\n",
       "      <td>5.0</td>\n",
       "      <td>No</td>\n",
       "      <td>120.0</td>\n",
       "      <td>821</td>\n",
       "      <td>no</td>\n",
       "    </tr>\n",
       "    <tr>\n",
       "      <th>2</th>\n",
       "      <td>2.5</td>\n",
       "      <td>Blue</td>\n",
       "      <td>21</td>\n",
       "      <td>20-29</td>\n",
       "      <td>Female</td>\n",
       "      <td>2</td>\n",
       "      <td>2006</td>\n",
       "      <td>8</td>\n",
       "      <td>1 to 10</td>\n",
       "      <td>7</td>\n",
       "      <td>...</td>\n",
       "      <td>Wisconsin</td>\n",
       "      <td>Dallas/Fort Worth, TX</td>\n",
       "      <td>Texas</td>\n",
       "      <td>12</td>\n",
       "      <td>34.0</td>\n",
       "      <td>14.0</td>\n",
       "      <td>No</td>\n",
       "      <td>122.0</td>\n",
       "      <td>853</td>\n",
       "      <td>yes</td>\n",
       "    </tr>\n",
       "    <tr>\n",
       "      <th>3</th>\n",
       "      <td>4.0</td>\n",
       "      <td>Blue</td>\n",
       "      <td>43</td>\n",
       "      <td>40-49</td>\n",
       "      <td>Male</td>\n",
       "      <td>1</td>\n",
       "      <td>2007</td>\n",
       "      <td>9</td>\n",
       "      <td>1 to 10</td>\n",
       "      <td>9</td>\n",
       "      <td>...</td>\n",
       "      <td>Wisconsin</td>\n",
       "      <td>Dallas/Fort Worth, TX</td>\n",
       "      <td>Texas</td>\n",
       "      <td>11</td>\n",
       "      <td>26.0</td>\n",
       "      <td>39.0</td>\n",
       "      <td>No</td>\n",
       "      <td>141.0</td>\n",
       "      <td>821</td>\n",
       "      <td>yes</td>\n",
       "    </tr>\n",
       "    <tr>\n",
       "      <th>4</th>\n",
       "      <td>5.0</td>\n",
       "      <td>Silver</td>\n",
       "      <td>49</td>\n",
       "      <td>40-49</td>\n",
       "      <td>Male</td>\n",
       "      <td>1</td>\n",
       "      <td>2006</td>\n",
       "      <td>14</td>\n",
       "      <td>11 to 20</td>\n",
       "      <td>10</td>\n",
       "      <td>...</td>\n",
       "      <td>Wisconsin</td>\n",
       "      <td>Dallas/Fort Worth, TX</td>\n",
       "      <td>Texas</td>\n",
       "      <td>12</td>\n",
       "      <td>0.0</td>\n",
       "      <td>0.0</td>\n",
       "      <td>No</td>\n",
       "      <td>144.0</td>\n",
       "      <td>853</td>\n",
       "      <td>no</td>\n",
       "    </tr>\n",
       "  </tbody>\n",
       "</table>\n",
       "<p>5 rows × 30 columns</p>\n",
       "</div>"
      ],
      "text/plain": [
       "   Satisfaction Airline Status  Age Age Range  Gender  Price Sensitivity  \\\n",
       "0           4.5           Blue   31     30-39    Male                  1   \n",
       "1           4.0           Blue   56     50-59    Male                  2   \n",
       "2           2.5           Blue   21     20-29  Female                  2   \n",
       "3           4.0           Blue   43     40-49    Male                  1   \n",
       "4           5.0         Silver   49     40-49    Male                  1   \n",
       "\n",
       "   Year of First Flight  No of Flights p.a. No of Flights p.a. grouped  \\\n",
       "0                  2007                  28                   21 to 30   \n",
       "1                  2006                  41                   41 to 50   \n",
       "2                  2006                   8                    1 to 10   \n",
       "3                  2007                   9                    1 to 10   \n",
       "4                  2006                  14                   11 to 20   \n",
       "\n",
       "   % of Flight with other Airlines             ...              Origin State  \\\n",
       "0                                7             ...                 Wisconsin   \n",
       "1                                3             ...                 Wisconsin   \n",
       "2                                7             ...                 Wisconsin   \n",
       "3                                9             ...                 Wisconsin   \n",
       "4                               10             ...                 Wisconsin   \n",
       "\n",
       "        Destination City  Destination State  Scheduled Departure Hour  \\\n",
       "0  Dallas/Fort Worth, TX              Texas                        15   \n",
       "1  Dallas/Fort Worth, TX              Texas                        11   \n",
       "2  Dallas/Fort Worth, TX              Texas                        12   \n",
       "3  Dallas/Fort Worth, TX              Texas                        11   \n",
       "4  Dallas/Fort Worth, TX              Texas                        12   \n",
       "\n",
       "  Departure Delay in Minutes  Arrival Delay in Minutes Flight cancelled  \\\n",
       "0                        0.0                       3.0               No   \n",
       "1                        2.0                       5.0               No   \n",
       "2                       34.0                      14.0               No   \n",
       "3                       26.0                      39.0               No   \n",
       "4                        0.0                       0.0               No   \n",
       "\n",
       "  Flight time in minutes Flight Distance Arrival Delay greater 5 Mins  \n",
       "0                  134.0             821                           no  \n",
       "1                  120.0             821                           no  \n",
       "2                  122.0             853                          yes  \n",
       "3                  141.0             821                          yes  \n",
       "4                  144.0             853                           no  \n",
       "\n",
       "[5 rows x 30 columns]"
      ]
     },
     "execution_count": 48,
     "metadata": {},
     "output_type": "execute_result"
    }
   ],
   "source": [
    "df_survey=pd.read_csv(\"/Users/mugupta2/SatisfactionSurvey/data/SatisfactionSurvey.csv\")\n",
    "df_survey.head()"
   ]
  },
  {
   "cell_type": "code",
   "execution_count": 57,
   "metadata": {},
   "outputs": [
    {
     "name": "stdout",
     "output_type": "stream",
     "text": [
      "Satisfaction : float64\n",
      "Airline_Status : object\n",
      "Age : int64\n",
      "Age_Range : object\n",
      "Gender : object\n",
      "Price_Sensitivity : int64\n",
      "Year_of_First_Flight : int64\n",
      "No_of_Flights_p_a_ : int64\n",
      "No_of_Flights_p_a__grouped : object\n",
      "%_of_Flight_with_other_Airlines : int64\n",
      "Type_of_Travel : object\n",
      "No__of_other_Loyalty_Cards : int64\n",
      "Shopping_Amount_at_Airport : int64\n",
      "Eating_and_Drinking_at_Airport : int64\n",
      "Class : object\n",
      "Day_of_Month : int64\n",
      "Flight_date : object\n",
      "Airline_Code : object\n",
      "Airline_Name : object\n",
      "Orgin_City : object\n",
      "Origin_State : object\n",
      "Destination_City : object\n",
      "Destination_State : object\n",
      "Scheduled_Departure_Hour : int64\n",
      "Departure_Delay_in_Minutes : float64\n",
      "Arrival_Delay_in_Minutes : float64\n",
      "Flight_cancelled : object\n",
      "Flight_time_in_minutes : float64\n",
      "Flight_Distance : int64\n",
      "Arrival_Delay_greater_5_Mins : object\n"
     ]
    }
   ],
   "source": [
    "#Column Name with Data Type\n",
    "cols=df_survey.columns\n",
    "newcols=[col.replace(\" \",\"_\") for col in cols]\n",
    "newcols=[col.replace(\".\",\"_\") for col in newcols]\n",
    "df_survey.columns=newcols\n",
    "\n",
    "\n",
    "datatype=df_survey.dtypes\n",
    "info_array=zip(newcols,datatype)\n",
    "for col,dtype in info_array:\n",
    "    print(col,\":\",dtype)\n",
    "\n",
    "\n"
   ]
  },
  {
   "cell_type": "markdown",
   "metadata": {},
   "source": [
    "<H2> Univariate Analysis </H2>"
   ]
  },
  {
   "cell_type": "code",
   "execution_count": 58,
   "metadata": {},
   "outputs": [
    {
     "name": "stdout",
     "output_type": "stream",
     "text": [
      "Date Range of Flights Analysed : 01/11/14 - 02/04/14\n"
     ]
    }
   ],
   "source": [
    "# Analysis for Date Range\n",
    "df_datewise=df_survey.sort_values(by=\"Flight_date\")\n",
    "df_datewise.reset_index()\n",
    "print(\"Date Range of Flights Analysed : %s - %s\" % (df_datewise.ix[1,\"Flight_date\"],df_datewise.ix[len(df_datewise)-1,'Flight_date']))"
   ]
  },
  {
   "cell_type": "code",
   "execution_count": 59,
   "metadata": {},
   "outputs": [
    {
     "data": {
      "text/plain": [
       "<matplotlib.axes._subplots.AxesSubplot at 0x112aa8160>"
      ]
     },
     "execution_count": 59,
     "metadata": {},
     "output_type": "execute_result"
    },
    {
     "data": {
      "image/png": "[encoded data removed]",
      "text/plain": [
       "<matplotlib.figure.Figure at 0x1129df780>"
      ]
     },
     "metadata": {},
     "output_type": "display_data"
    }
   ],
   "source": [
    "# Analysis Gender Wise\n",
    "groupby_gender=df_survey.groupby(by=\"Gender\").size()\n",
    "groupby_gender.plot.bar(title=\"Gender Wise Distribution\")"
   ]
  },
  {
   "cell_type": "code",
   "execution_count": 60,
   "metadata": {},
   "outputs": [
    {
     "data": {
      "text/plain": [
       "<matplotlib.axes._subplots.AxesSubplot at 0x112de5160>"
      ]
     },
     "execution_count": 60,
     "metadata": {},
     "output_type": "execute_result"
    },
    {
     "data": {
      "image/png": "[encoded data removed]",
      "text/plain": [
       "<matplotlib.figure.Figure at 0x112aa8b00>"
      ]
     },
     "metadata": {},
     "output_type": "display_data"
    }
   ],
   "source": [
    "# Analysis Airline Category Wise\n",
    "groupby_categroy=df_survey.groupby(by=\"Airline_Status\").size()\n",
    "groupby_categroy.plot.bar(title=\"Airline Category Wise Distribution\")"
   ]
  },
  {
   "cell_type": "code",
   "execution_count": 61,
   "metadata": {},
   "outputs": [
    {
     "data": {
      "text/plain": [
       "<matplotlib.axes._subplots.AxesSubplot at 0x112e01f28>"
      ]
     },
     "execution_count": 61,
     "metadata": {},
     "output_type": "execute_result"
    },
    {
     "data": {
      "image/png": "[encoded data removed]",
      "text/plain": [
       "<matplotlib.figure.Figure at 0x112e9f908>"
      ]
     },
     "metadata": {},
     "output_type": "display_data"
    }
   ],
   "source": [
    "# Analysis Age Range Wise\n",
    "groupby_age_range=df_survey.groupby(by=\"Age_Range\").size()\n",
    "groupby_age_range.plot.bar(title=\"Age Range Wise Distribution\",figsize=(15,4))"
   ]
  },
  {
   "cell_type": "code",
   "execution_count": 63,
   "metadata": {},
   "outputs": [
    {
     "data": {
      "text/plain": [
       "<matplotlib.axes._subplots.AxesSubplot at 0x112b0e048>"
      ]
     },
     "execution_count": 63,
     "metadata": {},
     "output_type": "execute_result"
    },
    {
     "data": {
      "image/png": "[encoded data removed]",
      "text/plain": [
       "<matplotlib.figure.Figure at 0x113ad3a58>"
      ]
     },
     "metadata": {},
     "output_type": "display_data"
    }
   ],
   "source": [
    "\n",
    "\n",
    "# Analysis Flight Frequency Wise\n",
    "groupby_flights=df_survey.groupby(by=\"No_of_Flights_p_a__grouped\").size()\n",
    "groupby_flights.plot.bar(title=\"Number of Flights Wise Distribution\",figsize=(15,4))"
   ]
  },
  {
   "cell_type": "code",
   "execution_count": 64,
   "metadata": {},
   "outputs": [
    {
     "data": {
      "text/plain": [
       "<matplotlib.axes._subplots.AxesSubplot at 0x113acdb38>"
      ]
     },
     "execution_count": 64,
     "metadata": {},
     "output_type": "execute_result"
    },
    {
     "data": {
      "image/png": "[encoded data removed]",
      "text/plain": [
       "<matplotlib.figure.Figure at 0x113ae10b8>"
      ]
     },
     "metadata": {},
     "output_type": "display_data"
    }
   ],
   "source": [
    "\n",
    "\n",
    "# Analysis Scheduled Departure Hour Wise\n",
    "groupby_dep_hour=df_survey.groupby(by=\"Scheduled_Departure_Hour\").size()\n",
    "groupby_dep_hour.plot.bar(title=\"Scheduled Departure Hour Wise Distribution\",figsize=(15,4))"
   ]
  },
  {
   "cell_type": "markdown",
   "metadata": {},
   "source": [
    "<H2> Multivariate Analysis </H2>"
   ]
  },
  {
   "cell_type": "code",
   "execution_count": 71,
   "metadata": {},
   "outputs": [
    {
     "data": {
      "text/plain": [
       "<matplotlib.axes._subplots.AxesSubplot at 0x117c9c9b0>"
      ]
     },
     "execution_count": 71,
     "metadata": {},
     "output_type": "execute_result"
    },
    {
     "data": {
      "image/png": "[encoded data removed]",
      "text/plain": [
       "<matplotlib.figure.Figure at 0x117ca9e80>"
      ]
     },
     "metadata": {},
     "output_type": "display_data"
    }
   ],
   "source": [
    "#Analysis Age Group by Gender Type\n",
    "\n",
    "#We at first transformed the data frame by unstacking, that is, splitting, the gender column into two columns, that is, Male, Female. \n",
    "#This meant that for each of the Age Group  we had the flight count for both gender types. Finally, a stacked bar graph was created by using this transformed data frame.\n",
    "groupby_agegroup_gender=df_survey.groupby([\"Age_Range\",\"Gender\"])['Age_Range'].count().unstack('Gender').fillna(0)\n",
    "groupby_agegroup_gender[['Male','Female']].plot.bar(title=\"Distribution of Gender by Age Group\",stacked=True,figsize=(15,4))"
   ]
  },
  {
   "cell_type": "markdown",
   "metadata": {},
   "source": [
    "<H2> Time Series Analysis </H2>"
   ]
  },
  {
   "cell_type": "code",
   "execution_count": 73,
   "metadata": {},
   "outputs": [
    {
     "data": {
      "text/plain": [
       "0    03-18-2014\n",
       "1      01/11/14\n",
       "2    01-25-2014\n",
       "3    02-20-2014\n",
       "4    02-25-2014\n",
       "5    01-16-2014\n",
       "6      03/06/14\n",
       "7      02/05/14\n",
       "8    01-21-2014\n",
       "9    01-19-2014\n",
       "Name: Flight_date, dtype: object"
      ]
     },
     "execution_count": 73,
     "metadata": {},
     "output_type": "execute_result"
    }
   ],
   "source": [
    "df_survey['Flight_date'].head(10)"
   ]
  },
  {
   "cell_type": "code",
   "execution_count": 138,
   "metadata": {},
   "outputs": [
    {
     "data": {
      "text/html": [
       "<div>\n",
       "<table border=\"1\" class=\"dataframe\">\n",
       "  <thead>\n",
       "    <tr style=\"text-align: right;\">\n",
       "      <th></th>\n",
       "      <th>Satisfaction</th>\n",
       "      <th>Airline_Status</th>\n",
       "      <th>Age</th>\n",
       "      <th>Age_Range</th>\n",
       "      <th>Gender</th>\n",
       "      <th>Price_Sensitivity</th>\n",
       "      <th>Year_of_First_Flight</th>\n",
       "      <th>No_of_Flights_p_a_</th>\n",
       "      <th>No_of_Flights_p_a__grouped</th>\n",
       "      <th>%_of_Flight_with_other_Airlines</th>\n",
       "      <th>...</th>\n",
       "      <th>Departure_Delay_in_Minutes</th>\n",
       "      <th>Arrival_Delay_in_Minutes</th>\n",
       "      <th>Flight_cancelled</th>\n",
       "      <th>Flight_time_in_minutes</th>\n",
       "      <th>Flight_Distance</th>\n",
       "      <th>Arrival_Delay_greater_5_Mins</th>\n",
       "      <th>flight_date_mdy</th>\n",
       "      <th>flight_date_date</th>\n",
       "      <th>flight_date_month</th>\n",
       "      <th>flight_date_day</th>\n",
       "    </tr>\n",
       "  </thead>\n",
       "  <tbody>\n",
       "    <tr>\n",
       "      <th>0</th>\n",
       "      <td>4.5</td>\n",
       "      <td>Blue</td>\n",
       "      <td>31</td>\n",
       "      <td>30-39</td>\n",
       "      <td>Male</td>\n",
       "      <td>1</td>\n",
       "      <td>2007</td>\n",
       "      <td>28</td>\n",
       "      <td>21 to 30</td>\n",
       "      <td>7</td>\n",
       "      <td>...</td>\n",
       "      <td>0.0</td>\n",
       "      <td>3.0</td>\n",
       "      <td>No</td>\n",
       "      <td>134.0</td>\n",
       "      <td>821</td>\n",
       "      <td>no</td>\n",
       "      <td>2014-03-18</td>\n",
       "      <td>2014-03-18</td>\n",
       "      <td>3</td>\n",
       "      <td>18</td>\n",
       "    </tr>\n",
       "    <tr>\n",
       "      <th>1</th>\n",
       "      <td>4.0</td>\n",
       "      <td>Blue</td>\n",
       "      <td>56</td>\n",
       "      <td>50-59</td>\n",
       "      <td>Male</td>\n",
       "      <td>2</td>\n",
       "      <td>2006</td>\n",
       "      <td>41</td>\n",
       "      <td>41 to 50</td>\n",
       "      <td>3</td>\n",
       "      <td>...</td>\n",
       "      <td>2.0</td>\n",
       "      <td>5.0</td>\n",
       "      <td>No</td>\n",
       "      <td>120.0</td>\n",
       "      <td>821</td>\n",
       "      <td>no</td>\n",
       "      <td>2014-01-11</td>\n",
       "      <td>2014-01-11</td>\n",
       "      <td>1</td>\n",
       "      <td>11</td>\n",
       "    </tr>\n",
       "    <tr>\n",
       "      <th>2</th>\n",
       "      <td>2.5</td>\n",
       "      <td>Blue</td>\n",
       "      <td>21</td>\n",
       "      <td>20-29</td>\n",
       "      <td>Female</td>\n",
       "      <td>2</td>\n",
       "      <td>2006</td>\n",
       "      <td>8</td>\n",
       "      <td>1 to 10</td>\n",
       "      <td>7</td>\n",
       "      <td>...</td>\n",
       "      <td>34.0</td>\n",
       "      <td>14.0</td>\n",
       "      <td>No</td>\n",
       "      <td>122.0</td>\n",
       "      <td>853</td>\n",
       "      <td>yes</td>\n",
       "      <td>2014-01-25</td>\n",
       "      <td>2014-01-25</td>\n",
       "      <td>1</td>\n",
       "      <td>25</td>\n",
       "    </tr>\n",
       "    <tr>\n",
       "      <th>3</th>\n",
       "      <td>4.0</td>\n",
       "      <td>Blue</td>\n",
       "      <td>43</td>\n",
       "      <td>40-49</td>\n",
       "      <td>Male</td>\n",
       "      <td>1</td>\n",
       "      <td>2007</td>\n",
       "      <td>9</td>\n",
       "      <td>1 to 10</td>\n",
       "      <td>9</td>\n",
       "      <td>...</td>\n",
       "      <td>26.0</td>\n",
       "      <td>39.0</td>\n",
       "      <td>No</td>\n",
       "      <td>141.0</td>\n",
       "      <td>821</td>\n",
       "      <td>yes</td>\n",
       "      <td>2014-02-20</td>\n",
       "      <td>2014-02-20</td>\n",
       "      <td>2</td>\n",
       "      <td>20</td>\n",
       "    </tr>\n",
       "    <tr>\n",
       "      <th>4</th>\n",
       "      <td>5.0</td>\n",
       "      <td>Silver</td>\n",
       "      <td>49</td>\n",
       "      <td>40-49</td>\n",
       "      <td>Male</td>\n",
       "      <td>1</td>\n",
       "      <td>2006</td>\n",
       "      <td>14</td>\n",
       "      <td>11 to 20</td>\n",
       "      <td>10</td>\n",
       "      <td>...</td>\n",
       "      <td>0.0</td>\n",
       "      <td>0.0</td>\n",
       "      <td>No</td>\n",
       "      <td>144.0</td>\n",
       "      <td>853</td>\n",
       "      <td>no</td>\n",
       "      <td>2014-02-25</td>\n",
       "      <td>2014-02-25</td>\n",
       "      <td>2</td>\n",
       "      <td>25</td>\n",
       "    </tr>\n",
       "  </tbody>\n",
       "</table>\n",
       "<p>5 rows × 34 columns</p>\n",
       "</div>"
      ],
      "text/plain": [
       "   Satisfaction Airline_Status  Age Age_Range  Gender  Price_Sensitivity  \\\n",
       "0           4.5           Blue   31     30-39    Male                  1   \n",
       "1           4.0           Blue   56     50-59    Male                  2   \n",
       "2           2.5           Blue   21     20-29  Female                  2   \n",
       "3           4.0           Blue   43     40-49    Male                  1   \n",
       "4           5.0         Silver   49     40-49    Male                  1   \n",
       "\n",
       "   Year_of_First_Flight  No_of_Flights_p_a_ No_of_Flights_p_a__grouped  \\\n",
       "0                  2007                  28                   21 to 30   \n",
       "1                  2006                  41                   41 to 50   \n",
       "2                  2006                   8                    1 to 10   \n",
       "3                  2007                   9                    1 to 10   \n",
       "4                  2006                  14                   11 to 20   \n",
       "\n",
       "   %_of_Flight_with_other_Airlines       ...       Departure_Delay_in_Minutes  \\\n",
       "0                                7       ...                              0.0   \n",
       "1                                3       ...                              2.0   \n",
       "2                                7       ...                             34.0   \n",
       "3                                9       ...                             26.0   \n",
       "4                               10       ...                              0.0   \n",
       "\n",
       "   Arrival_Delay_in_Minutes  Flight_cancelled  Flight_time_in_minutes  \\\n",
       "0                       3.0                No                   134.0   \n",
       "1                       5.0                No                   120.0   \n",
       "2                      14.0                No                   122.0   \n",
       "3                      39.0                No                   141.0   \n",
       "4                       0.0                No                   144.0   \n",
       "\n",
       "  Flight_Distance  Arrival_Delay_greater_5_Mins flight_date_mdy  \\\n",
       "0             821                            no      2014-03-18   \n",
       "1             821                            no      2014-01-11   \n",
       "2             853                           yes      2014-01-25   \n",
       "3             821                           yes      2014-02-20   \n",
       "4             853                            no      2014-02-25   \n",
       "\n",
       "  flight_date_date flight_date_month flight_date_day  \n",
       "0       2014-03-18                 3              18  \n",
       "1       2014-01-11                 1              11  \n",
       "2       2014-01-25                 1              25  \n",
       "3       2014-02-20                 2              20  \n",
       "4       2014-02-25                 2              25  \n",
       "\n",
       "[5 rows x 34 columns]"
      ]
     },
     "execution_count": 138,
     "metadata": {},
     "output_type": "execute_result"
    }
   ],
   "source": [
    "list_dates=list(df_survey['Flight_date'])\n",
    "list_dates=[x.replace(\"-\",\"/\") for x in list_dates]\n",
    "list_dates=[  x[0:6] + \"2014\"  if len(x)<9 else x for x in list_dates  ]\n",
    "list_dates=[datetime.datetime.strptime(x,\"%m/%d/%Y\") for x in list_dates]\n",
    "df_survey['flight_date_mdy']=pd.Series(list_dates,index=df_survey.index)\n",
    "df_survey['flight_date_date']=pd.Series([x.date() for x in list_dates],index=df_survey.index)\n",
    "df_survey['flight_date_month']=pd.Series([x.month for x in list_dates],index=df_survey.index)\n",
    "df_survey['flight_date_day']=pd.Series([x.day for x in list_dates],index=df_survey.index)\n",
    "df_survey.head()"
   ]
  },
  {
   "cell_type": "markdown",
   "metadata": {},
   "source": [
    "<H2> Descriptive Statistics </H2>"
   ]
  },
  {
   "cell_type": "code",
   "execution_count": 171,
   "metadata": {},
   "outputs": [
    {
     "name": "stdout",
     "output_type": "stream",
     "text": [
      "Mean of Satisfaction Score: 3.379424\n",
      "Median of Satisfaction Score: 4.000000\n",
      "Mode of Satisfaction Score: 4.000000\n",
      "Variance of Satisfaction Score: 0.930481\n",
      "Std Dev of Satisfaction Score: 0.964615\n"
     ]
    }
   ],
   "source": [
    "#Mean, Median , Mode, Variance of Satisfaction Score\n",
    "satifaction=list(df_survey.sort_values(by=\"Satisfaction\")['Satisfaction'])\n",
    "print('Mean of Satisfaction Score: %f' % statistics.mean(satifaction))\n",
    "print('Median of Satisfaction Score: %f' % statistics.median(satifaction))\n",
    "print('Mode of Satisfaction Score: %f' % statistics.mode(satifaction))\n",
    "print('Variance of Satisfaction Score: %f' % statistics.variance(satifaction,xbar=None))\n",
    "print('Std Dev of Satisfaction Score: %f' % statistics.stdev(satifaction,xbar=None))"
   ]
  },
  {
   "cell_type": "code",
   "execution_count": 143,
   "metadata": {},
   "outputs": [
    {
     "data": {
      "text/plain": [
       "<matplotlib.axes._subplots.AxesSubplot at 0x122d824a8>"
      ]
     },
     "execution_count": 143,
     "metadata": {},
     "output_type": "execute_result"
    },
    {
     "data": {
      "image/png": "[encoded data removed]",
      "text/plain": [
       "<matplotlib.figure.Figure at 0x122d8ef60>"
      ]
     },
     "metadata": {},
     "output_type": "display_data"
    }
   ],
   "source": [
    "#Average Delay by Date\n",
    "df_survey.groupby('flight_date_date')['Departure_Delay_in_Minutes'].mean().plot.bar(title='Distribution of Departure Delay by Date',figsize=(15,4))"
   ]
  },
  {
   "cell_type": "markdown",
   "metadata": {},
   "source": []
  },
  {
   "cell_type": "code",
   "execution_count": 151,
   "metadata": {},
   "outputs": [
    {
     "data": {
      "text/plain": [
       "<matplotlib.axes._subplots.AxesSubplot at 0x126f730b8>"
      ]
     },
     "execution_count": 151,
     "metadata": {},
     "output_type": "execute_result"
    },
    {
     "data": {
      "image/png": "[encoded data removed]",
      "text/plain": [
       "<matplotlib.figure.Figure at 0x122cf7cc0>"
      ]
     },
     "metadata": {},
     "output_type": "display_data"
    }
   ],
   "source": [
    "#Std Dev of Satisfaction Score by Age Group\n",
    "df_survey.groupby('Age_Range')['Satisfaction'].std().plot.bar(title='Std Dev in Satisfaction Score by Age Range',figsize=(15,4))"
   ]
  },
  {
   "cell_type": "code",
   "execution_count": 174,
   "metadata": {},
   "outputs": [
    {
     "data": {
      "text/plain": [
       "<matplotlib.axes._subplots.AxesSubplot at 0x127163048>"
      ]
     },
     "execution_count": 174,
     "metadata": {},
     "output_type": "execute_result"
    },
    {
     "data": {
      "image/png": "[encoded data removed]",
      "text/plain": [
       "<matplotlib.figure.Figure at 0x12cb59be0>"
      ]
     },
     "metadata": {},
     "output_type": "display_data"
    }
   ],
   "source": [
    "#Average of Satifaction Score by Age Group\n",
    "df_survey.groupby('Age_Range')['Satisfaction'].mean().plot.bar(title='Std Dev in Satisfaction Score by Age Range',figsize=(15,4))"
   ]
  },
  {
   "cell_type": "code",
   "execution_count": 180,
   "metadata": {},
   "outputs": [
    {
     "data": {
      "text/html": [
       "<div>\n",
       "<table border=\"1\" class=\"dataframe\">\n",
       "  <thead>\n",
       "    <tr style=\"text-align: right;\">\n",
       "      <th></th>\n",
       "      <th>Satisfaction</th>\n",
       "      <th>Airline_Status</th>\n",
       "      <th>Age</th>\n",
       "      <th>Age_Range</th>\n",
       "      <th>Gender</th>\n",
       "      <th>Price_Sensitivity</th>\n",
       "      <th>Year_of_First_Flight</th>\n",
       "      <th>No_of_Flights_p_a_</th>\n",
       "      <th>No_of_Flights_p_a__grouped</th>\n",
       "      <th>%_of_Flight_with_other_Airlines</th>\n",
       "      <th>...</th>\n",
       "      <th>Arrival_Delay_in_Minutes</th>\n",
       "      <th>Flight_cancelled</th>\n",
       "      <th>Flight_time_in_minutes</th>\n",
       "      <th>Flight_Distance</th>\n",
       "      <th>Arrival_Delay_greater_5_Mins</th>\n",
       "      <th>flight_date_mdy</th>\n",
       "      <th>flight_date_date</th>\n",
       "      <th>flight_date_month</th>\n",
       "      <th>flight_date_day</th>\n",
       "      <th>Route</th>\n",
       "    </tr>\n",
       "  </thead>\n",
       "  <tbody>\n",
       "    <tr>\n",
       "      <th>0</th>\n",
       "      <td>4.5</td>\n",
       "      <td>Blue</td>\n",
       "      <td>31</td>\n",
       "      <td>30-39</td>\n",
       "      <td>Male</td>\n",
       "      <td>1</td>\n",
       "      <td>2007</td>\n",
       "      <td>28</td>\n",
       "      <td>21 to 30</td>\n",
       "      <td>7</td>\n",
       "      <td>...</td>\n",
       "      <td>3.0</td>\n",
       "      <td>No</td>\n",
       "      <td>134.0</td>\n",
       "      <td>821</td>\n",
       "      <td>no</td>\n",
       "      <td>2014-03-18</td>\n",
       "      <td>2014-03-18</td>\n",
       "      <td>3</td>\n",
       "      <td>18</td>\n",
       "      <td>Madison, WI -&gt; Dallas/Fort Worth, TX</td>\n",
       "    </tr>\n",
       "    <tr>\n",
       "      <th>1</th>\n",
       "      <td>4.0</td>\n",
       "      <td>Blue</td>\n",
       "      <td>56</td>\n",
       "      <td>50-59</td>\n",
       "      <td>Male</td>\n",
       "      <td>2</td>\n",
       "      <td>2006</td>\n",
       "      <td>41</td>\n",
       "      <td>41 to 50</td>\n",
       "      <td>3</td>\n",
       "      <td>...</td>\n",
       "      <td>5.0</td>\n",
       "      <td>No</td>\n",
       "      <td>120.0</td>\n",
       "      <td>821</td>\n",
       "      <td>no</td>\n",
       "      <td>2014-01-11</td>\n",
       "      <td>2014-01-11</td>\n",
       "      <td>1</td>\n",
       "      <td>11</td>\n",
       "      <td>Madison, WI -&gt; Dallas/Fort Worth, TX</td>\n",
       "    </tr>\n",
       "    <tr>\n",
       "      <th>2</th>\n",
       "      <td>2.5</td>\n",
       "      <td>Blue</td>\n",
       "      <td>21</td>\n",
       "      <td>20-29</td>\n",
       "      <td>Female</td>\n",
       "      <td>2</td>\n",
       "      <td>2006</td>\n",
       "      <td>8</td>\n",
       "      <td>1 to 10</td>\n",
       "      <td>7</td>\n",
       "      <td>...</td>\n",
       "      <td>14.0</td>\n",
       "      <td>No</td>\n",
       "      <td>122.0</td>\n",
       "      <td>853</td>\n",
       "      <td>yes</td>\n",
       "      <td>2014-01-25</td>\n",
       "      <td>2014-01-25</td>\n",
       "      <td>1</td>\n",
       "      <td>25</td>\n",
       "      <td>Milwaukee, WI -&gt; Dallas/Fort Worth, TX</td>\n",
       "    </tr>\n",
       "    <tr>\n",
       "      <th>3</th>\n",
       "      <td>4.0</td>\n",
       "      <td>Blue</td>\n",
       "      <td>43</td>\n",
       "      <td>40-49</td>\n",
       "      <td>Male</td>\n",
       "      <td>1</td>\n",
       "      <td>2007</td>\n",
       "      <td>9</td>\n",
       "      <td>1 to 10</td>\n",
       "      <td>9</td>\n",
       "      <td>...</td>\n",
       "      <td>39.0</td>\n",
       "      <td>No</td>\n",
       "      <td>141.0</td>\n",
       "      <td>821</td>\n",
       "      <td>yes</td>\n",
       "      <td>2014-02-20</td>\n",
       "      <td>2014-02-20</td>\n",
       "      <td>2</td>\n",
       "      <td>20</td>\n",
       "      <td>Madison, WI -&gt; Dallas/Fort Worth, TX</td>\n",
       "    </tr>\n",
       "    <tr>\n",
       "      <th>4</th>\n",
       "      <td>5.0</td>\n",
       "      <td>Silver</td>\n",
       "      <td>49</td>\n",
       "      <td>40-49</td>\n",
       "      <td>Male</td>\n",
       "      <td>1</td>\n",
       "      <td>2006</td>\n",
       "      <td>14</td>\n",
       "      <td>11 to 20</td>\n",
       "      <td>10</td>\n",
       "      <td>...</td>\n",
       "      <td>0.0</td>\n",
       "      <td>No</td>\n",
       "      <td>144.0</td>\n",
       "      <td>853</td>\n",
       "      <td>no</td>\n",
       "      <td>2014-02-25</td>\n",
       "      <td>2014-02-25</td>\n",
       "      <td>2</td>\n",
       "      <td>25</td>\n",
       "      <td>Milwaukee, WI -&gt; Dallas/Fort Worth, TX</td>\n",
       "    </tr>\n",
       "  </tbody>\n",
       "</table>\n",
       "<p>5 rows × 35 columns</p>\n",
       "</div>"
      ],
      "text/plain": [
       "   Satisfaction Airline_Status  Age Age_Range  Gender  Price_Sensitivity  \\\n",
       "0           4.5           Blue   31     30-39    Male                  1   \n",
       "1           4.0           Blue   56     50-59    Male                  2   \n",
       "2           2.5           Blue   21     20-29  Female                  2   \n",
       "3           4.0           Blue   43     40-49    Male                  1   \n",
       "4           5.0         Silver   49     40-49    Male                  1   \n",
       "\n",
       "   Year_of_First_Flight  No_of_Flights_p_a_ No_of_Flights_p_a__grouped  \\\n",
       "0                  2007                  28                   21 to 30   \n",
       "1                  2006                  41                   41 to 50   \n",
       "2                  2006                   8                    1 to 10   \n",
       "3                  2007                   9                    1 to 10   \n",
       "4                  2006                  14                   11 to 20   \n",
       "\n",
       "   %_of_Flight_with_other_Airlines                   ...                    \\\n",
       "0                                7                   ...                     \n",
       "1                                3                   ...                     \n",
       "2                                7                   ...                     \n",
       "3                                9                   ...                     \n",
       "4                               10                   ...                     \n",
       "\n",
       "  Arrival_Delay_in_Minutes  Flight_cancelled  Flight_time_in_minutes  \\\n",
       "0                      3.0                No                   134.0   \n",
       "1                      5.0                No                   120.0   \n",
       "2                     14.0                No                   122.0   \n",
       "3                     39.0                No                   141.0   \n",
       "4                      0.0                No                   144.0   \n",
       "\n",
       "   Flight_Distance Arrival_Delay_greater_5_Mins  flight_date_mdy  \\\n",
       "0              821                           no       2014-03-18   \n",
       "1              821                           no       2014-01-11   \n",
       "2              853                          yes       2014-01-25   \n",
       "3              821                          yes       2014-02-20   \n",
       "4              853                           no       2014-02-25   \n",
       "\n",
       "  flight_date_date flight_date_month flight_date_day  \\\n",
       "0       2014-03-18                 3              18   \n",
       "1       2014-01-11                 1              11   \n",
       "2       2014-01-25                 1              25   \n",
       "3       2014-02-20                 2              20   \n",
       "4       2014-02-25                 2              25   \n",
       "\n",
       "                                    Route  \n",
       "0    Madison, WI -> Dallas/Fort Worth, TX  \n",
       "1    Madison, WI -> Dallas/Fort Worth, TX  \n",
       "2  Milwaukee, WI -> Dallas/Fort Worth, TX  \n",
       "3    Madison, WI -> Dallas/Fort Worth, TX  \n",
       "4  Milwaukee, WI -> Dallas/Fort Worth, TX  \n",
       "\n",
       "[5 rows x 35 columns]"
      ]
     },
     "execution_count": 180,
     "metadata": {},
     "output_type": "execute_result"
    }
   ],
   "source": [
    "df_survey['Route']=df_survey['Orgin_City'] + \" -> \" + df_survey['Destination_City']\n",
    "df_survey.head()"
   ]
  },
  {
   "cell_type": "code",
   "execution_count": 181,
   "metadata": {},
   "outputs": [
    {
     "name": "stdout",
     "output_type": "stream",
     "text": [
      "Most Busy Route: Los Angeles, CA -> San Francisco, CA\n"
     ]
    }
   ],
   "source": [
    "#Most Used Route\n",
    "routes=list(df_survey['Route'])\n",
    "print(\"Most Busy Route: %s\" % statistics.mode(routes))\n"
   ]
  },
  {
   "cell_type": "code",
   "execution_count": 185,
   "metadata": {},
   "outputs": [
    {
     "data": {
      "image/png": "[encoded data removed]",
      "text/plain": [
       "<matplotlib.figure.Figure at 0x12cb59240>"
      ]
     },
     "metadata": {},
     "output_type": "display_data"
    }
   ],
   "source": [
    "#Histogram of Satisfaction Score\n",
    "df_survey['Satisfaction'].plot.hist(bins=5,title=\"Distribution of Satisfaction Score\")\n",
    "plt.show()"
   ]
  },
  {
   "cell_type": "code",
   "execution_count": 196,
   "metadata": {},
   "outputs": [
    {
     "data": {
      "image/png": "[encoded data removed]",
      "text/plain": [
       "<matplotlib.figure.Figure at 0x13588ff60>"
      ]
     },
     "metadata": {},
     "output_type": "display_data"
    }
   ],
   "source": [
    "#Box plot to highlight outliers\n",
    "box=df_survey.boxplot(column=[\"Satisfaction\"])\n",
    "plt.show()"
   ]
  },
  {
   "cell_type": "code",
   "execution_count": 201,
   "metadata": {},
   "outputs": [
    {
     "name": "stdout",
     "output_type": "stream",
     "text": [
      "Proportion of values as outlier: 2.308895 percent\n"
     ]
    }
   ],
   "source": [
    "q75,q25=np.percentile(satifaction,[75,25])\n",
    "iqr=q75-q25\n",
    "print ('Proportion of values as outlier: %f percent'%(\n",
    "(len(df_survey) - len([x for x in satifaction if q75+(1.5*iqr)>=x>= q25-(1.5*iqr)]))*100/float(len(df_survey))\n",
    "))"
   ]
  },
  {
   "cell_type": "code",
   "execution_count": 211,
   "metadata": {},
   "outputs": [
    {
     "name": "stdout",
     "output_type": "stream",
     "text": [
      "Mean with Outliers:3.379424\n",
      "Mean without Outliers:3.435661\n"
     ]
    }
   ],
   "source": [
    "mean_with_outliers=np.mean(satifaction)\n",
    "mean_without_outliers=np.mean([x for x in satifaction if q75 + (1.5*iqr) >=x>=q25 -(1.5*iqr)])\n",
    "print(\"Mean with Outliers:%f\"%mean_with_outliers)\n",
    "print(\"Mean without Outliers:%f\"%mean_without_outliers)"
   ]
  },
  {
   "cell_type": "markdown",
   "metadata": {},
   "source": [
    "<H2> Correlation </H2>"
   ]
  },
  {
   "cell_type": "code",
   "execution_count": 214,
   "metadata": {},
   "outputs": [
    {
     "data": {
      "image/png": "[encoded data removed]",
      "text/plain": [
       "<matplotlib.figure.Figure at 0x12b984f98>"
      ]
     },
     "metadata": {},
     "output_type": "display_data"
    }
   ],
   "source": [
    "#Correlation of Age and Satifaction Score\n",
    "seaborn.pairplot(df_survey, vars=[\"Age\",\"Satisfaction\"],kind='reg')\n",
    "plt.show()"
   ]
  },
  {
   "cell_type": "code",
   "execution_count": 216,
   "metadata": {},
   "outputs": [
    {
     "name": "stdout",
     "output_type": "stream",
     "text": [
      "                Age  Satisfaction\n",
      "Age           1.000        -0.222\n",
      "Satisfaction -0.222         1.000\n"
     ]
    }
   ],
   "source": [
    "#Calculate Correlation between Age and Score\n",
    "pd.set_option('display.width',100)\n",
    "pd.set_option('precision',3)\n",
    "correlations=df_survey[[\"Age\",\"Satisfaction\"]].corr(method='pearson')\n",
    "print(correlations)"
   ]
  },
  {
   "cell_type": "code",
   "execution_count": 217,
   "metadata": {},
   "outputs": [
    {
     "name": "stdout",
     "output_type": "stream",
     "text": [
      "1\n",
      "2\n",
      "3\n",
      "4\n",
      "5\n",
      "6\n",
      "7\n",
      "8\n",
      "9\n"
     ]
    }
   ],
   "source": []
  },
  {
   "cell_type": "code",
   "execution_count": null,
   "metadata": {
    "collapsed": true
   },
   "outputs": [],
   "source": []
  }
 ],
 "metadata": {
  "kernelspec": {
   "display_name": "Python 3",
   "language": "python",
   "name": "python3"
  },
  "language_info": {
   "codemirror_mode": {
    "name": "ipython",
    "version": 3
   },
   "file_extension": ".py",
   "mimetype": "text/x-python",
   "name": "python",
   "nbconvert_exporter": "python",
   "pygments_lexer": "ipython3",
   "version": "3.6.4"
  }
 },
 "nbformat": 4,
 "nbformat_minor": 2
}
